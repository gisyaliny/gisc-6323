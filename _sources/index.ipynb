{
 "cells": [
  {
   "cell_type": "markdown",
   "id": "8967d9d9",
   "metadata": {},
   "source": [
    "# EPPS6326 & GISC6323: Machine Learning for Socio-Economic and Georeferenced Data\n",
    "\n",
    "This repo is for the _Machine Learning for Socio-Economic and Georeferenced Data_ course (EPPS6326 & GISC6323) that Dr. [Michael Tiefelsdorf](https://profiles.utdallas.edu/tiefelsdorf) and I teach at the University of Texas, Dallas.\n",
    "\n",
    "## Recommended Textbooks\n",
    "\n",
    "<div style=\"display: flex; justify-content: center;\">\n",
    "  <div style=\"width: 45%;\">\n",
    "    <img src=\"https://m.media-amazon.com/images/I/61Lvnv9+CML._AC_UF1000,1000_QL80_.jpg\" alt=\"Image 1\" style=\"width: 100%;\">\n",
    "  </div>\n",
    "  <div style=\"width: 10%;\"></div>\n",
    "  <div style=\"width: 45%;\">\n",
    "    <img src=\"https://m.media-amazon.com/images/I/71WB1lhbIBL._AC_UF1000,1000_QL80_.jpg\" alt=\"Image 2\" style=\"width: 100%;\">\n",
    "  </div>\n",
    "</div>"
   ]
  }
 ],
 "metadata": {
  "jupytext": {
   "text_representation": {
    "extension": ".md",
    "format_name": "myst",
    "format_version": 0.13,
    "jupytext_version": "1.11.5"
   }
  },
  "kernelspec": {
   "display_name": "Python 3",
   "language": "python",
   "name": "python3"
  },
  "source_map": [
   12
  ]
 },
 "nbformat": 4,
 "nbformat_minor": 5
}