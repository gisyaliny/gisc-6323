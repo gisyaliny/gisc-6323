{
 "cells": [
  {
   "cell_type": "markdown",
   "metadata": {},
   "source": [
    "# Regression\n",
    "\n",
    "## Simple Linear Regression\n",
    "\n",
    "$Y=\\beta_0+\\beta_1 x + e$\n",
    "\n",
    "- $Y$ represents the dependent variable or the variable we are trying to predict or explain.\n",
    "- $x$ represents the independent variable or the predictor variable.\n",
    "- $\\beta_0$ is the intercept of the regression line, which is the predicted value of $Y$ when $x$ is zero.\n",
    "- $\\beta_1$ is the slope of the regression line, representing the average change in $Y$ for a one-unit change in $x$.\n",
    "- $e$ stands for the error term (also known as the residual), which is the difference between the observed values and the values predicted by the model.\n",
    "\n",
    "![image.png](./img/05.png)\n"
   ]
  },
  {
   "cell_type": "code",
   "execution_count": 1,
   "metadata": {},
   "outputs": [],
   "source": [
    "# Import necessary libraries\n",
    "import numpy as np\n",
    "from sklearn.linear_model import LinearRegression\n",
    "import matplotlib.pyplot as plt"
   ]
  },
  {
   "cell_type": "code",
   "execution_count": 2,
   "metadata": {},
   "outputs": [
    {
     "name": "stdout",
     "output_type": "stream",
     "text": [
      "Intercept (beta_0): [2.22215108]\n",
      "Slope (beta_1): [[2.93693502]]\n"
     ]
    }
   ],
   "source": [
    "# Generate some random data for demonstration\n",
    "np.random.seed(0) # Seed for reproducibility\n",
    "x = np.random.rand(100, 1) # 100 random numbers for independent variable\n",
    "y = 2 + 3 * x + np.random.randn(100, 1) # Dependent variable with some noise\n",
    "\n",
    "# Create a linear regression model\n",
    "model = LinearRegression()\n",
    "\n",
    "# Fit the model with our data (x - independent, y - dependent)\n",
    "model.fit(x, y)\n",
    "\n",
    "# Print the coefficients\n",
    "print(\"Intercept (beta_0):\", model.intercept_)\n",
    "print(\"Slope (beta_1):\", model.coef_)"
   ]
  },
  {
   "cell_type": "code",
   "execution_count": 3,
   "metadata": {},
   "outputs": [
    {
     "data": {
      "image/png": "[encoded data removed]",
      "text/plain": [
       "<Figure size 640x480 with 1 Axes>"
      ]
     },
     "metadata": {},
     "output_type": "display_data"
    }
   ],
   "source": [
    "# Use the model to make predictions\n",
    "y_pred = model.predict(x)\n",
    "\n",
    "# Plotting\n",
    "plt.scatter(x, y, color='blue') # actual data points\n",
    "plt.plot(x, y_pred, color='red') # our model's predictions\n",
    "plt.title('Simple Linear Regression')\n",
    "plt.xlabel('x')\n",
    "plt.ylabel('y')\n",
    "plt.show()"
   ]
  },
  {
   "cell_type": "markdown",
   "metadata": {},
   "source": [
    "### Find Best estimator of $\\beta_1$\n",
    "\n",
    "#### Ordinary Least Squares\n",
    "\n",
    "- The goal is to find the values of $\\beta_0$ and $\\beta_1$ that minimize the sum of the squared differences (residuals) between the observed values and the values predicted by the linear model.\n",
    "- $Minimize(e) = (\\sum (y_i-(\\beta_0+\\beta_1 x_i))^2)$, where $y_i$ and $x_i$ are the observed values.\n",
    "\n",
    "- Steps to calculate it\n",
    "\n",
    "1. Calculate the partial derivatives of intercept $\\beta_0$ and let it equal to 0\n",
    "   - $\\frac{\\partial e}{\\partial \\beta_0}=\\sum_i 2(y_i-\\beta_0-\\beta_i x_i)(-1) = 0$\n",
    "   - $\\frac{\\partial e}{\\partial \\beta_0}= \\sum_i \\beta_1 x_i -n*\\beta_0 -\\sum_i y_i =0$\n",
    "   - $\\sum_i \\beta_1 x_i +n*\\beta_0 -\\sum_i y_i =0 \\to n*\\beta_1\\bar x +n*\\beta_0-n*\\bar y = 0$\n",
    "   - $ n*\\beta_1\\bar x +n*\\beta_0-n\\*\\bar y = 0 \\to \\beta_1\\bar x + \\beta_0-\\bar y = 0$\n",
    "   - $\\beta_1\\bar x + \\beta_0-\\bar y = 0 \\to \\beta_0=\\bar y - \\beta_1 \\bar x$\n",
    "2. Calculate the partial derivative of slope $\\beta_1$ and let it equal to 0\n",
    "\n",
    "   - $\\frac{\\partial e}{\\partial \\beta_1} = \\sum_i2(y_i-\\beta_1 x_i -\\beta_0) (-x_i) =0$\n",
    "   - $\\sum_i2(y_i-\\beta_1 x_i -\\beta_0) (-x_i) =0 \\to \\sum_i(\\beta_1x_i^2+\\beta_0 x_i -x_i y_i)=0$\n",
    "   - Replace $\\beta_0$ with $(\\bar y - \\beta_1 \\bar x)$ : $\\sum_i(\\beta_1x_i^2+(\\bar y -\\beta_1 \\bar x) x_i -x_i y_i)=0$\n",
    "   - $\\beta_1(\\sum_i x_iy_i-\\bar y \\sum_i x_i) = \\sum_i x_i^2-\\bar x\\sum_i x_i \\to \\beta_1 = \\frac{\\sum_i x_iy_i-\\bar y \\sum_i x_i}{\\sum_i x_i^2-\\bar x\\sum_i x_i}$\n",
    "   - According to the Summation Property (As shown below):\n",
    "\n",
    "   ![image.png](./img/06.png)\n",
    "\n",
    "   - We will have $\\beta_1=\\frac{Cov(X,Y)}{Var(X)}$\n"
   ]
  },
  {
   "cell_type": "markdown",
   "metadata": {},
   "source": [
    "### Assessing the Accuracy of Coefficient Estimates\n",
    "\n",
    "- $SE(\\beta_1)^2 = \\frac{\\sigma^2}{\\sum_{i=1}^{n}(x-\\bar x)^2}$\n",
    "- $SE(\\beta_0)^2 = \\sigma^2[\\frac{1}{n}+\\frac{\\bar x^2}{\\sum_{i=1}^n(x_i-\\bar x)^2}]$\n",
    "  - Where $\\sigma^2 = Var(e)$\n",
    "- These two standard errors can be used to compute `confidence interval`, for example, for 95% confidence interval, it has the form\n",
    "  [$\\beta_1 - 2*SE(\\beta_1)$, $\\beta_1 + 2*SE(\\beta_1)$]\n",
    "\n",
    "### Hypothesis Testing\n",
    "\n",
    "- Standard errors can be used to perform `hypothesis tests` on coefficients.\n",
    "- To test the null hypothesis, we compute a `t-statistic`, given by  \n",
    "   $t=\\frac{\\beta_1-0}{SE(\\beta_1)}$\n",
    "  - This value follows a t-distribution with `n-2` degrees of freedom\n",
    "  - $H_0$ assumes $\\beta_1 = 0$\n",
    "  - Since $H_0:\\beta_1 = 0$, [$\\beta_1 - 2*SE(\\beta_1)$, $\\beta_1 + 2*SE(\\beta_1)$] should not contain 0\n",
    "\n",
    "![image.png](./img/07.png)\n"
   ]
  },
  {
   "cell_type": "markdown",
   "metadata": {},
   "source": [
    "### Assessing the Overall Accuracy of the Model\n",
    "\n",
    "- We compute the `Residual Standard Error`\n",
    "\n",
    "  $RSE = \\sqrt{\\frac{1}{n-2}RSS} = \\sqrt{\\frac{1}{n-2}\\sum_i^n(y_i-\\hat y_i)^2}$\n",
    "\n",
    "  - Where RSS is the `residual sum-of-squares`\n",
    "\n",
    "- We can also use `R-squared` (fraction of variance explained):\n",
    "\n",
    "  $R^2 = \\frac{TSS-RSS}{TSS}=1-\\frac{RSS}{TSS}$\n",
    "\n",
    "  - Where $ TSS=\\sum\\_{i=1}^n(y_i -\\bar y)^2$, is the `total sum of squares`\n",
    "  - Also, In the simple linear regression setting, $R^2 = r^2$ where $r$ is the correlation between $X$ and $Y$:\n",
    "\n",
    "  $r=\\frac{\\sum_{i=1}^2(x_i-\\bar x)(y_i-\\bar y)}{\\sqrt{\\sum_{i=1}^2(x_i-\\bar x)^2}\\sqrt{\\sum_{i=1}^2(y_i-\\bar y)^2}}$\n",
    "\n",
    "  ![image.png](./img/11.png)\n"
   ]
  },
  {
   "cell_type": "code",
   "execution_count": 28,
   "metadata": {},
   "outputs": [
    {
     "name": "stdout",
     "output_type": "stream",
     "text": [
      "Beta_1 (slope) using OLS: [1.4]\n"
     ]
    }
   ],
   "source": [
    "# Example data\n",
    "x = np.array([1., 2., 3., 4., 5.]).reshape(-1, 1)\n",
    "y = np.array([2., 4., 5., 8., 7.])\n",
    "\n",
    "# Calculating means\n",
    "x_mean = np.mean(x)\n",
    "y_mean = np.mean(y)\n",
    "\n",
    "# Calculating Beta_1\n",
    "numerator = sum([i*j for i,j in zip(x-x_mean,y-y_mean)])\n",
    "denominator = np.sum((x - x_mean)**2)\n",
    "beta_1 = numerator / denominator\n",
    "\n",
    "print(\"Beta_1 (slope) using OLS:\", beta_1)"
   ]
  },
  {
   "cell_type": "markdown",
   "metadata": {},
   "source": [
    "### Maximum likelihood estimation\n",
    "\n",
    "- In the context of linear regression, **MLE assumes that the residuals** (differences between observed and predicted values) **are normally distributed**.\n",
    "- The method finds the parameter values that maximize the likelihood of observing the given data.\n"
   ]
  },
  {
   "cell_type": "markdown",
   "metadata": {},
   "source": [
    "## Multiple Linear Regression\n",
    "\n",
    "$Y=\\beta_0+\\beta_1 X_1+\\beta_2 X_2+...+\\beta_p X_p + e$\n",
    "\n",
    "- Correlations amongst predictors cause problems (`multicollinearity`):\n",
    "  - The `variance of all coefficient` tends to increase, sometimes dramatically.\n",
    "  - $t=\\frac{\\beta_1-0}{SE(\\beta_1)}$, If $SE(\\beta_1)$ becomes larger, will contributes to a $t$ closer to 0, which will lead to a larger `p-value`\n",
    "  - Also, it's hard to interpret.\n",
    "- `Claims of causality` should be **avoided**!\n",
    "\n",
    "![image.png](./img/09.png)\n",
    "\n",
    "![image.png](./img/10.png)\n"
   ]
  },
  {
   "cell_type": "markdown",
   "metadata": {},
   "source": [
    "### Important Question (Hypothesis testing)\n",
    "\n",
    "1. Is at least one of the predictors $X_1,X_2,...,X_p$ useful in predicting the response?\n",
    "\n",
    "   - For this question, we use the $F-statistic$\n",
    "   - $F=\\frac{(TSS-RSS)/p}{RSS/(n-p-1)}$~$F_{p,n-p-1}$\n",
    "     - Where $n$ is the number of observations, $p$ is the number of predictors\n",
    "   - $H_0:$ None of these predictors are useful\n",
    "\n",
    "   ![image.png](./img/12.png)\n",
    "\n",
    "   - If $H_0$ is false, we expect $F>1$\n",
    "\n",
    "2. Do all the predictors help to explain $Y$, or is only a subset of the predictors useful?\n",
    "\n",
    "   - **Forward Selection**\n",
    "     - Begin with the `null model`\n",
    "     - Fit `p` simple linear regression and add the null model the variable results in the **lowest `RSS`**\n",
    "     - Add to that model the variable that results in the lowest `RSS` amongst all two-variable models.\n",
    "     - Continue until stopping rules is satisfied (e.g. `p-value >0.05` for all remaining variables)\n",
    "   - **Backward Selection**\n",
    "\n",
    "   ![image.png](./img/13.png)\n",
    "\n",
    "   - Model Selection\n",
    "     - Besides `RSS`, there are some other criteria for choosing an \"optimal\" member in stepwise searching, including `Akaike information criterion (AIC)`, `Bayesian information criterion (BIC)`, `adjusted R-squared`\n",
    "\n",
    "3. How well does the model fit the data?\n",
    "4. Given a set of predictor values, what response value should we predict, and how accurate is our prediction?\n"
   ]
  },
  {
   "cell_type": "markdown",
   "metadata": {},
   "source": [
    "### Polynomial regression (non-linear effects)\n",
    "\n",
    "![image.png](./img/14.png)\n",
    "\n",
    "![image.png](./img/15.png)\n"
   ]
  },
  {
   "cell_type": "markdown",
   "metadata": {},
   "source": [
    "## Interesting Quotes by famous Statisticians\n",
    "\n",
    "- _Essentially, all models are wrong, but some are useful_\n",
    "  - George Box\n",
    "- _The only way to find out what will happen when a complex system is disturbed is to disturb the system, not merely to observe it passively_\n",
    "  - Fred Mosteller and John Tukey, paraphrasing George Box\n"
   ]
  }
 ],
 "metadata": {
  "kernelspec": {
   "display_name": "mybase",
   "language": "python",
   "name": "python3"
  },
  "language_info": {
   "codemirror_mode": {
    "name": "ipython",
    "version": 3
   },
   "file_extension": ".py",
   "mimetype": "text/x-python",
   "name": "python",
   "nbconvert_exporter": "python",
   "pygments_lexer": "ipython3",
   "version": "3.11.4"
  }
 },
 "nbformat": 4,
 "nbformat_minor": 2
}
