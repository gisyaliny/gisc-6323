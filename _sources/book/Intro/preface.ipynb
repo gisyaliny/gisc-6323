{
 "cells": [
  {
   "cell_type": "markdown",
   "metadata": {},
   "source": [
    "# Preface\n"
   ]
  },
  {
   "cell_type": "markdown",
   "metadata": {},
   "source": [
    "## Introduction\n"
   ]
  },
  {
   "cell_type": "markdown",
   "metadata": {},
   "source": [
    "The course \"Machine Learning for Socio-Economic and Georeferenced Data\" (EPPS6326 & GISC6323) offers a foundational introduction to applying machine learning techniques to the nuanced fields of socio-economic studies and geospatial data analysis. This course is structured to provide students with a basic understanding of how machine learning models and algorithms can be used to analyze complex and dynamic data sets typical in these areas.\n",
    "\n",
    "Using open-source software and accessible hardware, the course covers essential models and algorithms, grounding them in practical examples to highlight their application in real-world scenarios. The curriculum is designed to demonstrate the utility of both supervised and unsupervised learning techniques in uncovering patterns and making predictions from socio-economic and geospatial data.\n",
    "\n",
    "Students will have the opportunity to work hands-on with data, applying machine learning techniques to develop an understanding of key concepts such as linear predictions, the bias-variance trade-off, and model performance measures. The course also touches upon the ethical considerations of applying machine learning, encouraging students to think critically about the implications of their work.\n"
   ]
  }
 ],
 "metadata": {
  "language_info": {
   "name": "python"
  }
 },
 "nbformat": 4,
 "nbformat_minor": 2
}
