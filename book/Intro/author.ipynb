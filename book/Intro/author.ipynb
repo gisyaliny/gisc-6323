{
 "cells": [
  {
   "cell_type": "markdown",
   "metadata": {},
   "source": [
    "# About the Author\n"
   ]
  },
  {
   "cell_type": "markdown",
   "metadata": {},
   "source": [
    "<div style=\"display: flex;\">\n",
    "  <div style=\"flex: 40%; padding-right: 20px;\">\n",
    "    <a href=\"https://gisyaliny.github.io/\">\n",
    "      <img src=\"https://gisyaliny.github.io/img/team/me.jpg\" alt=\"Yalin Yang\" style=\"width: 100%; height: auto;\">\n",
    "    </a>\n",
    "  </div>\n",
    "  <div style=\"flex: 45%;\">\n",
    "    <p>Yalin Yang is a Ph.D. Candidate in the Department of <a href=\"https://epps.utdallas.edu/about/programs/geospatial-information-sciences/\">Geospatial Information Sciences</a> at the <a href=\"https://www.utdallas.edu/\">University of Texas at Dallas</a> (德州大学达拉斯分校). His research interests include Geographic Information Science (GIS), Urban Environment, and Human Networks Modeling. More specifically, he is interested in applying geospatial big data, machine learning, and cloud computing (e.g. AWS) to study the interaction among built environments and social events, semantic segmentation of urban, navigation with map matching, etc. For a closer look at his research area, please visit his personal website at <a href=\"https://gisyaliny.github.io/\">https://gisyaliny.github.io/</a>.</p>\n",
    "    <h4>Education:</h4>\n",
    "    <ul>\n",
    "      <li>2019–now: Ph.D. Candidates in GIScience. <a href=\"https://epps.utdallas.edu/about/programs/geospatial-information-sciences/\">University of Texas at Dallas</a>, Texas, USA</li>\n",
    "      <li>2022–now: M.S. in Computer Science. <a href=\"https://www.utdallas.edu/\">University of Texas at Dallas</a>, Texas, USA</li>\n",
    "      <li>2017–2019: M.A. in Geography. <a href=\"https://www.binghamton.edu/geography/\">Binghamton University (SUNY)</a>, NewYork, USA</li>\n",
    "      <li>2013–2017: B.S. in GIScience. <a href=\"http://www.srees.ynu.edu.cn/english.htm\">Yunnan University</a>, Yunnan, China</li>\n",
    "    </ul>\n",
    "    <h4>Appointments:</h4>\n",
    "    <ul>\n",
    "      <li>2019–now: GIS Administrator, GAIA Lab, UT Dallas</li>\n",
    "      <li>2019–now: Teaching Assistant, Department of GIScience, UT Dallas</li>\n",
    "      <li>2018–2019: Teaching Assistant, Department of Geography, Binghamton University (SUNY)</li>\n",
    "    </ul>\n",
    "    \n",
    "  </div>\n",
    "</div>\n"
   ]
  }
 ],
 "metadata": {
  "language_info": {
   "name": "python"
  }
 },
 "nbformat": 4,
 "nbformat_minor": 2
}
