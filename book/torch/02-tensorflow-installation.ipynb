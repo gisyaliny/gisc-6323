{
 "cells": [
  {
   "cell_type": "markdown",
   "metadata": {},
   "source": [
    "# `Keras` installation\n",
    "\n",
    "- [Reference](https://tensorflow.rstudio.com/install/index.html)\n"
   ]
  },
  {
   "cell_type": "markdown",
   "metadata": {},
   "source": [
    "## Attention\n",
    "\n",
    "- [Tensorflow compatible CUDA](https://www.tensorflow.org/install/source#gpu)\n",
    "- Note that `Tensorflow 2.10` was the last version of TensorFlow to natively support GPUs on Windows.\n",
    "\n",
    "  - There's no version compatible with CUDA 11.7, therefore, we can not install `torch-gpu` and `tensorflow-gpu` in the same time\n",
    "\n",
    "- This installation tutorial will only cover `tensorflow-cpu` version\n"
   ]
  },
  {
   "cell_type": "markdown",
   "metadata": {},
   "source": [
    "## Installation steps\n",
    "\n",
    "0. The installation requires super-user permission, make sure you open `R studio` or `cmd` as super-user\n",
    "1. Install the tensorflow R package from GitHub as follows:\n",
    "\n",
    "```\n",
    "# install.packages(\"remotes\")\n",
    "remotes::install_github(\"rstudio/tensorflow\")\n",
    "```\n"
   ]
  },
  {
   "cell_type": "markdown",
   "metadata": {},
   "source": [
    "2. Make sure Python is installed on your system. (skip if you already have `python` env)\n",
    "   1. You can download from www.python.org/downloads, or call the `install_python()` from `reticulate`:\n",
    "   2. `reticulate::install_python()`\n"
   ]
  },
  {
   "cell_type": "markdown",
   "metadata": {},
   "source": [
    "3.  Use `keras::install_keras()`, which installs TensorFlow, in addition to some commonly used packages like `scipy`, `pandas`, and `tensorflow-datasets`.\n",
    "\n",
    "```\n",
    "install.packages(\"keras\")\n",
    "library(keras)\n",
    "install_keras()\n",
    "```\n"
   ]
  }
 ],
 "metadata": {
  "language_info": {
   "name": "python"
  }
 },
 "nbformat": 4,
 "nbformat_minor": 2
}
