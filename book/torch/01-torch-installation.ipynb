{
 "cells": [
  {
   "cell_type": "markdown",
   "id": "f57587f3",
   "metadata": {
    "vscode": {
     "languageId": "r"
    }
   },
   "source": [
    "# `torch` Installation\n",
    "\n",
    "- [Reference document](https://cran.r-project.org/web/packages/torch/vignettes/installation.html)\n"
   ]
  },
  {
   "cell_type": "markdown",
   "id": "1e85294c",
   "metadata": {},
   "source": [
    "## Windows\n",
    "\n",
    "### CPU\n",
    "\n",
    "If you don’t have a GPU or want to install the CPU version of `torch`, you can install with:\n",
    "\n",
    "`install.packages(\"torch\")`\n"
   ]
  },
  {
   "cell_type": "markdown",
   "id": "95dce6b7",
   "metadata": {},
   "source": [
    "### GPU\n",
    "\n",
    "Since version 0.1.1 `torch` supports GPU installation on Windows. In order to use GPU’s with torch you need to:\n",
    "\n",
    "1. Check your GPU is CUDA compatible or not, click [here](https://developer.nvidia.com/cuda-gpus#compute)\n",
    "2. Install NVIDIA CUDA toolkit [11.7](https://developer.nvidia.com/cuda-11-7-0-download-archive?target_os=Windows)\n",
    "\n",
    "   1. Installation [Instruction](https://developer.nvidia.com/cuda-11-7-0-download-archive)\n",
    "\n",
    "   2. run `nvcc --version` in the Command line to check the installation\n",
    "\n",
    "   ```\n",
    "   H:\\>nvcc --version\n",
    "   nvcc: NVIDIA (R) Cuda compiler driver\n",
    "   Copyright (c) 2005-2022 NVIDIA Corporation\n",
    "   Built on Tue_May__3_19:00:59_Pacific_Daylight_Time_2022\n",
    "   Cuda compilation tools, release 11.7, V11.7.64\n",
    "   Build cuda_11.7.r11.7/compiler.31294372_0\n",
    "   ```\n",
    "\n",
    "3. Install CuDNN [8.5.0](https://developer.nvidia.com/compute/cudnn/secure/8.5.0/local_installers/11.7/cudnn-windows-x86_64-8.5.0.96_cuda11-archive.zip) for Windows\n",
    "\n",
    "   1. Move it to `C:\\Program Files` (Recommended)\n",
    "\n",
    "   2. Add the `C:\\Program Files\\CuDNN8.5.0\\bin` into System Path\n",
    "\n",
    "4. Once you have installed all pre-requisites you can install `torch` with:\n",
    "\n",
    "   `install.packages(\"torch\")`\n",
    "\n",
    "5. `library(torch)` and install additional software automatically\n",
    "\n",
    "   1. Will get msg `Additional software needs to be downloaded and installed for torch to work correctly.` when first run `library` command\n",
    "\n",
    "   2. Once finished, run `cuda_device_count()`, it returns the number of GPUs available.\n",
    "      1. it should give you result `1`\n"
   ]
  }
 ],
 "metadata": {
  "kernelspec": {
   "display_name": "R",
   "language": "R",
   "name": "ir"
  },
  "language_info": {
   "codemirror_mode": "r",
   "file_extension": ".r",
   "mimetype": "text/x-r-source",
   "name": "R",
   "pygments_lexer": "r",
   "version": "3.6.1"
  }
 },
 "nbformat": 4,
 "nbformat_minor": 5
}
